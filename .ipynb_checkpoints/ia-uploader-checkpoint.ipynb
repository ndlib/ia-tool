{
 "cells": [
  {
   "cell_type": "markdown",
   "metadata": {},
   "source": [
    "# Hesburgh Libraries Internet Archive Script\n",
    "\n",
    "Script created in 2018 by Daniel Johnson, English and DH Librarian, at the Navari Family Center for Digital Scholarship, Hesburgh Library, University of Notre Dame. Use at your own risk -- the Hesburgh Libraries Internet Archive Script is released under a [University of Illinois/NCSA Open Source License](https://opensource.org/licenses/NCSA). For terms and details, see the `license` file.\n",
    "\n",
    "**NOTE:** *press \"ctrl+enter\" on any of these explanation cells if they look like computer code to get nice rendered text. Pressing \"ctrl+enter\" on a cell which **does** contain computer code will execute that code, however, so just be aware.*"
   ]
  },
  {
   "cell_type": "markdown",
   "metadata": {},
   "source": [
    "## Install and configure login\n",
    "\n",
    "The first thing you'll need to do is install the Internet Archive package from the command line, which will provide both Python functionality and a command-line program to configure your credentials for archive.org (essentially a stored log-in). Your Internet Archive email address will need to be authorized by an Internet Archive administrator to contribute to the Notre Dame Internet Archive collection for anything to work.\n",
    "\n",
    "[Here are the installation instructions](https://internetarchive.readthedocs.io/en/latest/installation.html). This is decidedly friendlier with Mac or Linux, though it does work with Windows, too, with varying degrees of troubleshooting. You may have to install pip, for example, though pip is supposed to come with recent versions of Python 3.\n",
    "\n",
    "[Next, here are the login configuration instructions](https://internetarchive.readthedocs.io/en/latest/quickstart.html), under the *\"Configuring\"* header. The good thing is, once you successfully do this, you shouldn't have to repeat it again for that computer."
   ]
  },
  {
   "cell_type": "markdown",
   "metadata": {},
   "source": [
    "## Running the script\n",
    "\n",
    "Your input spreadsheet (CSV) will need to follow a specific format to work correctly. Also, the name for the PDF you wish to upload with a given record should be the same as the item's \"File ID\", just with the file extension \".pdf\" added to the end. The script expects these PDF files to be in a subfolder called `pdfs`.\n",
    "\n",
    "The IA prefers certain formats for certain fields.\n",
    "\n",
    "[MARC21 Language Codes](https://www.loc.gov/marc/languages/language_name.html) are preferred for the language column.\n",
    "\n",
    "[An ISO 8601 format](https://en.wikipedia.org/wiki/ISO_8601) is strongly requested for dates. Basically, that means one of the following:\n",
    "* YYYY\n",
    "* YYYY-MM-DD\n",
    "* YYYY-MM-DD HH:MM:SS\n",
    "\n",
    "The following columns (underneath the appropriate column letter) are what the script expects. The first row of the script should contain these headers exactly. Notes on specific usage are included below the appropriate header.\n",
    "\n",
    "| A | B | C | D | E | F | G |\n",
    "| :---- | :---- | :---- | :---- | :---- | :---- | :---- |\n",
    "| **EMPTY** | **File ID** | **System Number** | **RDDS notes** | **OCLC Control Number** | **Title** | **Author** | \n",
    "| Leave empty | Must match pdf name | ---- | ---- | MUST be included | ---- | ---- |\n",
    "\n",
    "| H | I | J | K | L | M |\n",
    "| :---- | :---- | :---- | :---- | :---- | :---- |\n",
    "| **Abstract** | **Subject Headings** | **Source** | **Edition** | **Place of Publication** | **Publisher** |\n",
    "| ---- | Delimit multiple subjects with a pipe (<code>&#124;</code>) | ---- | ---- | ---- | ---- |\n",
    "\n",
    "| N | O | P | Q | R | S |\n",
    "| :---- | :---- | :---- | :---- | :---- | :---- |\n",
    "| **Extent** | **Rights** | **Date Created** | **Date Copyrighted** | **Type** | **Language** |\n",
    "| ---- | ---- | Use an ISO 8601 format | (currently not uploaded) | ---- | Use MARC21 language codes; delimit multiple languages with a pipe (<code>&#124;</code>) |\n",
    "\n",
    "| T | U | V | W | \n",
    "| :---- | :---- | :---- | :---- |\n",
    "| **Permission** | **Version** | **Table of Contents** | **Contributor Institution** |\n",
    "| ---- | ---- | ---- | Should always be \"University of Notre Dame\" | \n",
    "\n",
    "The \"EMPTY\" column (A) is there to correct a potential byte-order issue that could arise when Excel is used on the CSV file."
   ]
  },
  {
   "cell_type": "markdown",
   "metadata": {},
   "source": [
    "### Importing packages\n",
    "\n",
    "First, there is a fairly simple import. We have the upload module from the Internet Archive package, and the CSV package for working with our spreadsheet format. If this doesn't work, you can go no further in the program until you fix."
   ]
  },
  {
   "cell_type": "code",
   "execution_count": null,
   "metadata": {
    "collapsed": true
   },
   "outputs": [],
   "source": [
    "from internetarchive import upload\n",
    "import csv"
   ]
  },
  {
   "cell_type": "markdown",
   "metadata": {},
   "source": [
    "### Running the upload"
   ]
  },
  {
   "cell_type": "code",
   "execution_count": 1,
   "metadata": {},
   "outputs": [
    {
     "ename": "SyntaxError",
     "evalue": "invalid syntax (<ipython-input-1-b5f34d5a4b21>, line 47)",
     "output_type": "error",
     "traceback": [
      "\u001b[1;36m  File \u001b[1;32m\"<ipython-input-1-b5f34d5a4b21>\"\u001b[1;36m, line \u001b[1;32m47\u001b[0m\n\u001b[1;33m    [\"pdfs\" + s \" \" for s in mylist]\u001b[0m\n\u001b[1;37m                  ^\u001b[0m\n\u001b[1;31mSyntaxError\u001b[0m\u001b[1;31m:\u001b[0m invalid syntax\n"
     ]
    }
   ],
   "source": [
    "### ENTER input CSV file in place of MYFILE.csv here\n",
    "with open('MYFILE.csv', 'r', newline='', encoding='utf-8') as csvIn:\n",
    "    \n",
    "    csvObject = csv.DictReader(csvIn)\n",
    "    \n",
    "    for row in csvObject:\n",
    "              \n",
    "        # Subjects are delimited on pipes (|) so we make a list of them to feed in.\n",
    "        splitSubjects = (row['Subject Headings']).split(\"|\")\n",
    "        \n",
    "        # Languages are delimited on pipes (|) so we make a list of them to feed in.\n",
    "        splitLanguages = (row['Language']).split(\"|\")\n",
    "        \n",
    "        # Formula for making a unique Notre Dame identifier\n",
    "        itemIdentifier = 'nd' + row['OCLC Control Number']\n",
    "        \n",
    "        print(itemIdentifier)      \n",
    "        \n",
    "        # We create a dictionary of all the metadata\n",
    "        # Make sure to check that dates are ISO-8601 compatible!\n",
    "        md = dict(\n",
    "            collection='universitynotredamelibraries', \n",
    "            title=row['Title'], \n",
    "            mediatype='texts', \n",
    "            contributor=row['Contributor Institution'], \n",
    "            subject=splitSubjects,\n",
    "            \n",
    "            system_number = row['System Number'], \n",
    "            oclc_number = row['OCLC Control Number'], \n",
    "            call_number = row['File ID'],\n",
    "            creator = row['Author'], \n",
    "            abstract = row['Abstract'], \n",
    "            publisher = (row['Place of Publication'] + \" : \" + row['Publisher']),\n",
    "            place_of_publication = row['Place of Publication'],\n",
    "            extent = row['Extent'],\n",
    "            date = row['Date Created'],\n",
    "            language = splitLanguages,\n",
    "                    \n",
    "        )\n",
    "        \n",
    "        # Variable containing the path to the PDF for the given book. Notice: stored in the \"pdfs\" folder\n",
    "        #theFile = \"pdfs/\" + row['File ID'] + \".pdf\"\n",
    "        \n",
    "        # First, split PDF files if there's more than one:\n",
    "        theFileList = (row['File ID']).split(\"|\")\n",
    "        \n",
    "        # Next, prefix the correct directory (pdfs) and suffix the correct extension (.pdf)\n",
    "        [\"pdfs/\" + s + \".pdf\" for s in theFileList]\n",
    "        \n",
    "        # Subjects are delimited on pipes (|) so we make a list of them to feed in.\n",
    "        #splitSubjects = (row['Subject Headings']).split(\"|\")\n",
    "        \n",
    "        print(theFile)\n",
    "        #print(md)\n",
    "        \n",
    "        firstfile = upload(itemIdentifier, files=theFileList, metadata=md)\n",
    "        firstfile[0].status_code\n",
    "        print(firstfile[0].status_code)\n",
    "\n",
    "\n",
    "\n",
    "\n",
    "# General Internet Archive Documentation: https://internetarchive.readthedocs.io/en/latest/quickstart.html#uploading\n",
    "# New URL for the above: https://archive.org/services/docs/api/internetarchive/quickstart.html#uploading\n",
    "\n",
    "# Metadata Fields: https://internetarchive.readthedocs.io/en/latest/metadata.html\n",
    "\n"
   ]
  },
  {
   "cell_type": "code",
   "execution_count": null,
   "metadata": {},
   "outputs": [],
   "source": []
  }
 ],
 "metadata": {
  "anaconda-cloud": {},
  "kernelspec": {
   "display_name": "Python 3",
   "language": "python",
   "name": "python3"
  },
  "language_info": {
   "codemirror_mode": {
    "name": "ipython",
    "version": 3
   },
   "file_extension": ".py",
   "mimetype": "text/x-python",
   "name": "python",
   "nbconvert_exporter": "python",
   "pygments_lexer": "ipython3",
   "version": "3.7.3"
  }
 },
 "nbformat": 4,
 "nbformat_minor": 1
}
